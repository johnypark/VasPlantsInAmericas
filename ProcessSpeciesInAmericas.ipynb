{
 "cells": [
  {
   "cell_type": "code",
   "execution_count": 1,
   "metadata": {},
   "outputs": [],
   "source": [
    "import os\n",
    "import pandas as pd\n",
    "import numpy as np\n",
    "\n",
    "#%pip install pycountry-convert\n",
    "\n",
    "\n"
   ]
  },
  {
   "cell_type": "code",
   "execution_count": 2,
   "metadata": {},
   "outputs": [],
   "source": [
    "#installation\n",
    "import pycountry\n",
    "#function to convert to alpah2 country codes and continents\n",
    "from pycountry_convert import country_alpha2_to_continent_code, country_name_to_country_alpha2\n",
    "def get_continent(names):\n",
    "    try:\n",
    "        cn_a2_code =  country_name_to_country_alpha2(names)\n",
    "    except:\n",
    "        cn_a2_code = 'Unknown' \n",
    "    try:\n",
    "        cn_continent = country_alpha2_to_continent_code(cn_a2_code)\n",
    "    except:\n",
    "        cn_continent = 'Unknown' \n",
    "    return (names,cn_a2_code, cn_continent)\n",
    "\n",
    "    "
   ]
  },
  {
   "cell_type": "code",
   "execution_count": 3,
   "metadata": {},
   "outputs": [],
   "source": [
    "ls_alpha_2=[get_continent(country.name) for country in pycountry.countries]\n",
    "\n",
    "df=pd.DataFrame(ls_alpha_2)"
   ]
  },
  {
   "cell_type": "code",
   "execution_count": 4,
   "metadata": {},
   "outputs": [
    {
     "data": {
      "text/plain": [
       "120"
      ]
     },
     "execution_count": 4,
     "metadata": {},
     "output_type": "execute_result"
    }
   ],
   "source": [
    "continents = {\n",
    "    'NA': 'North America',\n",
    "    'SA': 'South America', \n",
    "    'AS': 'Asia',\n",
    "    'OC': 'Australia',\n",
    "    'AF': 'Africa',\n",
    "    'EU': 'Europe',\n",
    "    'Unknown' :'Unknown'\n",
    "}\n",
    "\n",
    "df_NA=df[(df[2]=='NA')]\n",
    "df_NA.size"
   ]
  },
  {
   "cell_type": "code",
   "execution_count": 6,
   "metadata": {},
   "outputs": [
    {
     "name": "stdout",
     "output_type": "stream",
     "text": [
      "['Belize', 'Canada', 'Costa Rica', 'El Salvador', 'Guatemala', 'Honduras', 'Mexico', 'Nicaragua', 'Panama', 'United States']\n"
     ]
    }
   ],
   "source": [
    "os.getcwd()\n",
    "import glob\n",
    "ls_VPA_countries=glob.glob(\"Tropicos_Name_Search_Results*\")\n",
    "outls= [f.split('.')[0] for f in \n",
    "[fn.split('_')[4] for fn in ls_VPA_countries]\n",
    "]\n",
    "\n",
    "print(outls)\n"
   ]
  },
  {
   "cell_type": "code",
   "execution_count": 68,
   "metadata": {},
   "outputs": [
    {
     "data": {
      "text/html": [
       "<div>\n",
       "<style scoped>\n",
       "    .dataframe tbody tr th:only-of-type {\n",
       "        vertical-align: middle;\n",
       "    }\n",
       "\n",
       "    .dataframe tbody tr th {\n",
       "        vertical-align: top;\n",
       "    }\n",
       "\n",
       "    .dataframe thead th {\n",
       "        text-align: right;\n",
       "    }\n",
       "</style>\n",
       "<table border=\"1\" class=\"dataframe\">\n",
       "  <thead>\n",
       "    <tr style=\"text-align: right;\">\n",
       "      <th></th>\n",
       "      <th>0</th>\n",
       "      <th>1</th>\n",
       "      <th>2</th>\n",
       "    </tr>\n",
       "  </thead>\n",
       "  <tbody>\n",
       "    <tr>\n",
       "      <th>0</th>\n",
       "      <td>Aruba</td>\n",
       "      <td>AW</td>\n",
       "      <td>NA</td>\n",
       "    </tr>\n",
       "    <tr>\n",
       "      <th>3</th>\n",
       "      <td>Anguilla</td>\n",
       "      <td>AI</td>\n",
       "      <td>NA</td>\n",
       "    </tr>\n",
       "    <tr>\n",
       "      <th>13</th>\n",
       "      <td>Antigua and Barbuda</td>\n",
       "      <td>AG</td>\n",
       "      <td>NA</td>\n",
       "    </tr>\n",
       "    <tr>\n",
       "      <th>20</th>\n",
       "      <td>Bonaire, Sint Eustatius and Saba</td>\n",
       "      <td>BQ</td>\n",
       "      <td>NA</td>\n",
       "    </tr>\n",
       "    <tr>\n",
       "      <th>25</th>\n",
       "      <td>Bahamas</td>\n",
       "      <td>BS</td>\n",
       "      <td>NA</td>\n",
       "    </tr>\n",
       "    <tr>\n",
       "      <th>27</th>\n",
       "      <td>Saint Barthélemy</td>\n",
       "      <td>BL</td>\n",
       "      <td>NA</td>\n",
       "    </tr>\n",
       "    <tr>\n",
       "      <th>30</th>\n",
       "      <td>Bermuda</td>\n",
       "      <td>BM</td>\n",
       "      <td>NA</td>\n",
       "    </tr>\n",
       "    <tr>\n",
       "      <th>33</th>\n",
       "      <td>Barbados</td>\n",
       "      <td>BB</td>\n",
       "      <td>NA</td>\n",
       "    </tr>\n",
       "    <tr>\n",
       "      <th>53</th>\n",
       "      <td>Cuba</td>\n",
       "      <td>CU</td>\n",
       "      <td>NA</td>\n",
       "    </tr>\n",
       "    <tr>\n",
       "      <th>54</th>\n",
       "      <td>Curaçao</td>\n",
       "      <td>CW</td>\n",
       "      <td>NA</td>\n",
       "    </tr>\n",
       "    <tr>\n",
       "      <th>56</th>\n",
       "      <td>Cayman Islands</td>\n",
       "      <td>KY</td>\n",
       "      <td>NA</td>\n",
       "    </tr>\n",
       "    <tr>\n",
       "      <th>61</th>\n",
       "      <td>Dominica</td>\n",
       "      <td>DM</td>\n",
       "      <td>NA</td>\n",
       "    </tr>\n",
       "    <tr>\n",
       "      <th>63</th>\n",
       "      <td>Dominican Republic</td>\n",
       "      <td>DO</td>\n",
       "      <td>NA</td>\n",
       "    </tr>\n",
       "    <tr>\n",
       "      <th>85</th>\n",
       "      <td>Guadeloupe</td>\n",
       "      <td>GP</td>\n",
       "      <td>NA</td>\n",
       "    </tr>\n",
       "    <tr>\n",
       "      <th>90</th>\n",
       "      <td>Grenada</td>\n",
       "      <td>GD</td>\n",
       "      <td>NA</td>\n",
       "    </tr>\n",
       "    <tr>\n",
       "      <th>91</th>\n",
       "      <td>Greenland</td>\n",
       "      <td>GL</td>\n",
       "      <td>NA</td>\n",
       "    </tr>\n",
       "    <tr>\n",
       "      <th>100</th>\n",
       "      <td>Haiti</td>\n",
       "      <td>HT</td>\n",
       "      <td>NA</td>\n",
       "    </tr>\n",
       "    <tr>\n",
       "      <th>112</th>\n",
       "      <td>Jamaica</td>\n",
       "      <td>JM</td>\n",
       "      <td>NA</td>\n",
       "    </tr>\n",
       "    <tr>\n",
       "      <th>121</th>\n",
       "      <td>Saint Kitts and Nevis</td>\n",
       "      <td>KN</td>\n",
       "      <td>NA</td>\n",
       "    </tr>\n",
       "    <tr>\n",
       "      <th>128</th>\n",
       "      <td>Saint Lucia</td>\n",
       "      <td>LC</td>\n",
       "      <td>NA</td>\n",
       "    </tr>\n",
       "    <tr>\n",
       "      <th>136</th>\n",
       "      <td>Saint Martin (French part)</td>\n",
       "      <td>MF</td>\n",
       "      <td>NA</td>\n",
       "    </tr>\n",
       "    <tr>\n",
       "      <th>153</th>\n",
       "      <td>Montserrat</td>\n",
       "      <td>MS</td>\n",
       "      <td>NA</td>\n",
       "    </tr>\n",
       "    <tr>\n",
       "      <th>154</th>\n",
       "      <td>Martinique</td>\n",
       "      <td>MQ</td>\n",
       "      <td>NA</td>\n",
       "    </tr>\n",
       "    <tr>\n",
       "      <th>180</th>\n",
       "      <td>Puerto Rico</td>\n",
       "      <td>PR</td>\n",
       "      <td>NA</td>\n",
       "    </tr>\n",
       "    <tr>\n",
       "      <th>203</th>\n",
       "      <td>Saint Pierre and Miquelon</td>\n",
       "      <td>PM</td>\n",
       "      <td>NA</td>\n",
       "    </tr>\n",
       "    <tr>\n",
       "      <th>215</th>\n",
       "      <td>Turks and Caicos Islands</td>\n",
       "      <td>TC</td>\n",
       "      <td>NA</td>\n",
       "    </tr>\n",
       "    <tr>\n",
       "      <th>224</th>\n",
       "      <td>Trinidad and Tobago</td>\n",
       "      <td>TT</td>\n",
       "      <td>NA</td>\n",
       "    </tr>\n",
       "    <tr>\n",
       "      <th>237</th>\n",
       "      <td>Saint Vincent and the Grenadines</td>\n",
       "      <td>VC</td>\n",
       "      <td>NA</td>\n",
       "    </tr>\n",
       "    <tr>\n",
       "      <th>239</th>\n",
       "      <td>Virgin Islands, British</td>\n",
       "      <td>VG</td>\n",
       "      <td>NA</td>\n",
       "    </tr>\n",
       "    <tr>\n",
       "      <th>240</th>\n",
       "      <td>Virgin Islands, U.S.</td>\n",
       "      <td>VI</td>\n",
       "      <td>NA</td>\n",
       "    </tr>\n",
       "  </tbody>\n",
       "</table>\n",
       "</div>"
      ],
      "text/plain": [
       "                                    0   1   2\n",
       "0                               Aruba  AW  NA\n",
       "3                            Anguilla  AI  NA\n",
       "13                Antigua and Barbuda  AG  NA\n",
       "20   Bonaire, Sint Eustatius and Saba  BQ  NA\n",
       "25                            Bahamas  BS  NA\n",
       "27                   Saint Barthélemy  BL  NA\n",
       "30                            Bermuda  BM  NA\n",
       "33                           Barbados  BB  NA\n",
       "53                               Cuba  CU  NA\n",
       "54                            Curaçao  CW  NA\n",
       "56                     Cayman Islands  KY  NA\n",
       "61                           Dominica  DM  NA\n",
       "63                 Dominican Republic  DO  NA\n",
       "85                         Guadeloupe  GP  NA\n",
       "90                            Grenada  GD  NA\n",
       "91                          Greenland  GL  NA\n",
       "100                             Haiti  HT  NA\n",
       "112                           Jamaica  JM  NA\n",
       "121             Saint Kitts and Nevis  KN  NA\n",
       "128                       Saint Lucia  LC  NA\n",
       "136        Saint Martin (French part)  MF  NA\n",
       "153                        Montserrat  MS  NA\n",
       "154                        Martinique  MQ  NA\n",
       "180                       Puerto Rico  PR  NA\n",
       "203         Saint Pierre and Miquelon  PM  NA\n",
       "215          Turks and Caicos Islands  TC  NA\n",
       "224               Trinidad and Tobago  TT  NA\n",
       "237  Saint Vincent and the Grenadines  VC  NA\n",
       "239           Virgin Islands, British  VG  NA\n",
       "240              Virgin Islands, U.S.  VI  NA"
      ]
     },
     "execution_count": 68,
     "metadata": {},
     "output_type": "execute_result"
    }
   ],
   "source": [
    "df_NA[~df_NA[0].isin(outls)]\n"
   ]
  },
  {
   "cell_type": "code",
   "execution_count": 18,
   "metadata": {},
   "outputs": [
    {
     "data": {
      "text/plain": [
       "('Tropicos_Name_Search_Results_Belize.dat', 'Belize')"
      ]
     },
     "execution_count": 18,
     "metadata": {},
     "output_type": "execute_result"
    }
   ],
   "source": [
    "j=0\n",
    "ls_VPA_countries[j], outls[j]\n",
    "\n",
    "#pd.read_csv(ls_VPA_countries[j],sep=\"\\t\")\n"
   ]
  },
  {
   "cell_type": "code",
   "execution_count": 17,
   "metadata": {},
   "outputs": [
    {
     "name": "stderr",
     "output_type": "stream",
     "text": [
      "C:\\ProgramData\\Anaconda3\\lib\\site-packages\\thefuzz\\fuzz.py:11: UserWarning: Using slow pure-python SequenceMatcher. Install python-Levenshtein to remove this warning\n",
      "  warnings.warn('Using slow pure-python SequenceMatcher. Install python-Levenshtein to remove this warning')\n"
     ]
    }
   ],
   "source": [
    "import ftfy\n",
    "import getopt\n",
    "import lzma\n",
    "import os\n",
    "import re\n",
    "import regex ### seems to have a memory leak, do not use\n",
    "import sys\n",
    "from thefuzz import fuzz ### pip3 install thefuzz[speedup]\n",
    "from thefuzz import process"
   ]
  },
  {
   "cell_type": "code",
   "execution_count": 1,
   "metadata": {},
   "outputs": [
    {
     "ename": "SyntaxError",
     "evalue": "invalid syntax (<ipython-input-1-453b26d9f21c>, line 1)",
     "output_type": "error",
     "traceback": [
      "\u001b[1;36m  File \u001b[1;32m\"<ipython-input-1-453b26d9f21c>\"\u001b[1;36m, line \u001b[1;32m1\u001b[0m\n\u001b[1;33m    grep '^\"' --include *Belize*  | tr -d '\"' | awk -F'\\t' '{if(match($3,/ /)){print $3,$4}}' | sort -u | awk 'BEGIN{print \"scientificName\"}{print $0}' > cvpa.tsv ### 159,831 taxa\u001b[0m\n\u001b[1;37m         ^\u001b[0m\n\u001b[1;31mSyntaxError\u001b[0m\u001b[1;31m:\u001b[0m invalid syntax\n"
     ]
    }
   ],
   "source": [
    "#grep '^\"' --include *Belize*  | tr -d '\"' | awk -F'\\t' '{if(match($3,/ /)){print $3,$4}}' | sort -u | awk 'BEGIN{print \"scientificName\"}{print $0}' > cvpa.tsv ### 159,831 taxa\n",
    "# here: write a code to querry coutnry name and apply grep, put country name on the column of the output file. \n",
    "grep '^\"' Tropicos_Name_Search_Results_*.dat| tr -d '\"' | awk -F'\\t' '{if(match($3,/ /)){print $3,$4}}' | sort -u | awk 'BEGIN{print \"scientificName\"}{print $0}' > cvpa.tsv ### 159,831 taxa\n",
    "./2wcvp.py -i cvpa.tsv -w wcvp-5.0.xz 1> cvpa-wcvp.tsv 2> cvpa-wcvp.err # can we show a bar or something when we are running 2wcvp.py?\n",
    "sort -t$'\\t' -k 1b,1 cvpa-wcvp.tsv | uniq | grep -v scientificName > cvpa-wcvp.txt ### 124,668 records"
   ]
  },
  {
   "cell_type": "code",
   "execution_count": null,
   "metadata": {},
   "outputs": [],
   "source": [
    "#"
   ]
  }
 ],
 "metadata": {
  "interpreter": {
   "hash": "b3ba2566441a7c06988d0923437866b63cedc61552a5af99d1f4fb67d367b25f"
  },
  "kernelspec": {
   "display_name": "Python 3.8.8 64-bit ('base': conda)",
   "name": "python3"
  },
  "language_info": {
   "codemirror_mode": {
    "name": "ipython",
    "version": 3
   },
   "file_extension": ".py",
   "mimetype": "text/x-python",
   "name": "python",
   "nbconvert_exporter": "python",
   "pygments_lexer": "ipython3",
   "version": "3.8.8"
  },
  "orig_nbformat": 4
 },
 "nbformat": 4,
 "nbformat_minor": 2
}
